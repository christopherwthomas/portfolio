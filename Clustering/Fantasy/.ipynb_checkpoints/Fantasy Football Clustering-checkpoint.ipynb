{
 "cells": [
  {
   "cell_type": "markdown",
   "metadata": {},
   "source": [
    "# Fantasy Football Goalscorers"
   ]
  },
  {
   "cell_type": "markdown",
   "metadata": {},
   "source": [
    "### Step 1. Import Libraries"
   ]
  },
  {
   "cell_type": "code",
   "execution_count": 1,
   "metadata": {},
   "outputs": [],
   "source": [
    "import pandas as pd\n",
    "import matplotlib.pyplot as plt\n",
    "from sklearn.cluster import KMeans\n",
    "from sklearn.preprocessing import scale"
   ]
  },
  {
   "cell_type": "markdown",
   "metadata": {},
   "source": [
    "### Step 2. Load data"
   ]
  },
  {
   "cell_type": "code",
   "execution_count": 2,
   "metadata": {},
   "outputs": [
    {
     "data": {
      "text/plain": [
       "<bound method NDFrame.head of                  Name  Creativity  Goals_scored\n",
       "0          Adam Smith       345.5             1\n",
       "1              Adrian         0.0             0\n",
       "2              Aguero       570.8            21\n",
       "3                 Ake       115.1             2\n",
       "4          Albrighton       718.3             2\n",
       "5        Alderweireld        67.8             0\n",
       "6    Alexander-Arnold       399.2             1\n",
       "7             Alisson         0.0             0\n",
       "8                Alli       878.5             9\n",
       "9              Alonso       549.6             7\n",
       "10            Amartey        10.3             0\n",
       "11             Ampadu         0.0             0\n",
       "12             Andone         0.0             0\n",
       "13            Antonio       256.3             3\n",
       "14          Armstrong         0.0             0\n",
       "15         Arnautovic       543.0            11\n",
       "16              Arter        76.1             1\n",
       "17               Atsu       340.6             2\n",
       "18         Aubameyang       207.1            10\n",
       "19             Aurier       236.5             2\n",
       "20             Austin        89.4             7\n",
       "21              Ayite         0.0             0\n",
       "22        Azpilicueta       535.7             2\n",
       "23             Bacuna         0.0             0\n",
       "24             Bailly        28.4             1\n",
       "25             Baines       373.5             2\n",
       "26           Bakayoko       279.5             2\n",
       "27           Balbuena         0.0             0\n",
       "28            Baldock         0.8             0\n",
       "29            Balogun         0.0             0\n",
       "..                ...         ...           ...\n",
       "442              Ward       270.9             1\n",
       "443       Ward-Prowse       613.9             3\n",
       "444           Welbeck       212.8             5\n",
       "445             Wells         3.5             0\n",
       "446          Westwood       134.8             0\n",
       "447           Wickham         0.0             0\n",
       "448         Wijnaldum       356.2             1\n",
       "449          Williams        39.0             1\n",
       "450          Williams        83.0             0\n",
       "451           Willian       891.5             6\n",
       "452          Wilshere       281.8             1\n",
       "453            Wilson       288.4             8\n",
       "454             Winks       172.2             0\n",
       "455              Wood       203.5            10\n",
       "456             Xhaka       822.8             1\n",
       "457        Yarmolenko         0.0             0\n",
       "458            Yedlin       340.7             0\n",
       "459           Yoshida        67.0             2\n",
       "460             Young       502.3             2\n",
       "461          Zabaleta       293.7             0\n",
       "462              Zaha       716.9             9\n",
       "463             Zanka       123.6             0\n",
       "464        Zappacosta       245.3             1\n",
       "465         Zeegelaar       142.1             0\n",
       "466         Zinchenko       145.9             0\n",
       "467            Zohore         0.0             0\n",
       "468       van Aanholt       303.8             5\n",
       "469          van Dijk       122.6             0\n",
       "470      van La Parra       261.6             3\n",
       "471              Ozil      1287.5             4\n",
       "\n",
       "[472 rows x 3 columns]>"
      ]
     },
     "execution_count": 2,
     "metadata": {},
     "output_type": "execute_result"
    }
   ],
   "source": [
    "contents = pd.read_csv('FPL_2018_19_Wk0.csv')\n",
    "contents.head"
   ]
  },
  {
   "cell_type": "markdown",
   "metadata": {},
   "source": [
    "### Step 3. Transform the data for python"
   ]
  },
  {
   "cell_type": "code",
   "execution_count": 3,
   "metadata": {},
   "outputs": [
    {
     "name": "stdout",
     "output_type": "stream",
     "text": [
      "     goals\n",
      "0        1\n",
      "1        0\n",
      "2       21\n",
      "3        2\n",
      "4        2\n",
      "5        0\n",
      "6        1\n",
      "7        0\n",
      "8        9\n",
      "9        7\n",
      "10       0\n",
      "11       0\n",
      "12       0\n",
      "13       3\n",
      "14       0\n",
      "15      11\n",
      "16       1\n",
      "17       2\n",
      "18      10\n",
      "19       2\n",
      "20       7\n",
      "21       0\n",
      "22       2\n",
      "23       0\n",
      "24       1\n",
      "25       2\n",
      "26       2\n",
      "27       0\n",
      "28       0\n",
      "29       0\n",
      "..     ...\n",
      "442      1\n",
      "443      3\n",
      "444      5\n",
      "445      0\n",
      "446      0\n",
      "447      0\n",
      "448      1\n",
      "449      1\n",
      "450      0\n",
      "451      6\n",
      "452      1\n",
      "453      8\n",
      "454      0\n",
      "455     10\n",
      "456      1\n",
      "457      0\n",
      "458      0\n",
      "459      2\n",
      "460      2\n",
      "461      0\n",
      "462      9\n",
      "463      0\n",
      "464      1\n",
      "465      0\n",
      "466      0\n",
      "467      0\n",
      "468      5\n",
      "469      0\n",
      "470      3\n",
      "471      4\n",
      "\n",
      "[472 rows x 1 columns]\n"
     ]
    },
    {
     "data": {
      "text/plain": [
       "<bound method NDFrame.head of                  name  creativity  goals\n",
       "0          Adam Smith       345.5      1\n",
       "1              Adrian         0.0      0\n",
       "2              Aguero       570.8     21\n",
       "3                 Ake       115.1      2\n",
       "4          Albrighton       718.3      2\n",
       "5        Alderweireld        67.8      0\n",
       "6    Alexander-Arnold       399.2      1\n",
       "7             Alisson         0.0      0\n",
       "8                Alli       878.5      9\n",
       "9              Alonso       549.6      7\n",
       "10            Amartey        10.3      0\n",
       "11             Ampadu         0.0      0\n",
       "12             Andone         0.0      0\n",
       "13            Antonio       256.3      3\n",
       "14          Armstrong         0.0      0\n",
       "15         Arnautovic       543.0     11\n",
       "16              Arter        76.1      1\n",
       "17               Atsu       340.6      2\n",
       "18         Aubameyang       207.1     10\n",
       "19             Aurier       236.5      2\n",
       "20             Austin        89.4      7\n",
       "21              Ayite         0.0      0\n",
       "22        Azpilicueta       535.7      2\n",
       "23             Bacuna         0.0      0\n",
       "24             Bailly        28.4      1\n",
       "25             Baines       373.5      2\n",
       "26           Bakayoko       279.5      2\n",
       "27           Balbuena         0.0      0\n",
       "28            Baldock         0.8      0\n",
       "29            Balogun         0.0      0\n",
       "..                ...         ...    ...\n",
       "442              Ward       270.9      1\n",
       "443       Ward-Prowse       613.9      3\n",
       "444           Welbeck       212.8      5\n",
       "445             Wells         3.5      0\n",
       "446          Westwood       134.8      0\n",
       "447           Wickham         0.0      0\n",
       "448         Wijnaldum       356.2      1\n",
       "449          Williams        39.0      1\n",
       "450          Williams        83.0      0\n",
       "451           Willian       891.5      6\n",
       "452          Wilshere       281.8      1\n",
       "453            Wilson       288.4      8\n",
       "454             Winks       172.2      0\n",
       "455              Wood       203.5     10\n",
       "456             Xhaka       822.8      1\n",
       "457        Yarmolenko         0.0      0\n",
       "458            Yedlin       340.7      0\n",
       "459           Yoshida        67.0      2\n",
       "460             Young       502.3      2\n",
       "461          Zabaleta       293.7      0\n",
       "462              Zaha       716.9      9\n",
       "463             Zanka       123.6      0\n",
       "464        Zappacosta       245.3      1\n",
       "465         Zeegelaar       142.1      0\n",
       "466         Zinchenko       145.9      0\n",
       "467            Zohore         0.0      0\n",
       "468       van Aanholt       303.8      5\n",
       "469          van Dijk       122.6      0\n",
       "470      van La Parra       261.6      3\n",
       "471              Ozil      1287.5      4\n",
       "\n",
       "[472 rows x 3 columns]>"
      ]
     },
     "execution_count": 3,
     "metadata": {},
     "output_type": "execute_result"
    }
   ],
   "source": [
    "contents.columns = ['name', 'creativity', 'goals']\n",
    "print(contents[['goals']])\n",
    "contents.head"
   ]
  },
  {
   "cell_type": "markdown",
   "metadata": {},
   "source": [
    "### Step 4. Visualise the data"
   ]
  },
  {
   "cell_type": "code",
   "execution_count": 5,
   "metadata": {},
   "outputs": [
    {
     "data": {
      "text/plain": [
       "<matplotlib.axes._subplots.AxesSubplot at 0x1a1afee710>"
      ]
     },
     "execution_count": 5,
     "metadata": {},
     "output_type": "execute_result"
    },
    {
     "data": {
      "image/png": "[encoded data removed]",
      "text/plain": [
       "<Figure size 432x288 with 1 Axes>"
      ]
     },
     "metadata": {
      "needs_background": "light"
     },
     "output_type": "display_data"
    }
   ],
   "source": [
    "contents.plot.scatter(x ='goals', y ='creativity')"
   ]
  },
  {
   "cell_type": "markdown",
   "metadata": {},
   "source": [
    "### Step 5. Applying K Means Clustering"
   ]
  },
  {
   "cell_type": "code",
   "execution_count": 9,
   "metadata": {},
   "outputs": [],
   "source": [
    "data = []\n",
    "for index, row in contents.iterrows():\n",
    "    creativity = row['creativity']\n",
    "    goals = row['goals']\n",
    "    data.append( [float(creativity), float(goals)] )\n",
    "    \n",
    "model = KMeans(n_clusters=4)\n",
    "model.fit(scale(data))\n",
    "\n",
    "contents['cluster'] = model.labels_.astype(float)"
   ]
  },
  {
   "cell_type": "markdown",
   "metadata": {},
   "source": [
    "### Step 6. Visualise the Clusters"
   ]
  },
  {
   "cell_type": "code",
   "execution_count": 10,
   "metadata": {},
   "outputs": [
    {
     "data": {
      "text/plain": [
       "<matplotlib.legend.Legend at 0x1a1b6cf8d0>"
      ]
     },
     "execution_count": 10,
     "metadata": {},
     "output_type": "execute_result"
    },
    {
     "data": {
      "image/png": "[encoded data removed]",
      "text/plain": [
       "<Figure size 432x288 with 1 Axes>"
      ]
     },
     "metadata": {
      "needs_background": "light"
     },
     "output_type": "display_data"
    }
   ],
   "source": [
    "groups = contents.groupby('cluster')\n",
    "\n",
    "# Plot the clusters\n",
    "fig, ax = plt.subplots()\n",
    "for name, group in groups:\n",
    "    ax.plot(group.goals,group.creativity, marker='o', linestyle='', label=name)\n",
    "    \n",
    "plt.xlabel('goals')\n",
    "plt.ylabel('creativity')\n",
    "ax.legend()"
   ]
  },
  {
   "cell_type": "markdown",
   "metadata": {},
   "source": [
    "### Step 7. Use Elbow test to decide number of clusters"
   ]
  },
  {
   "cell_type": "code",
   "execution_count": 8,
   "metadata": {},
   "outputs": [
    {
     "data": {
      "image/png": "[encoded data removed]",
      "text/plain": [
       "<Figure size 432x288 with 1 Axes>"
      ]
     },
     "metadata": {
      "needs_background": "light"
     },
     "output_type": "display_data"
    }
   ],
   "source": [
    "x = contents[['goals']]\n",
    "y = contents[['creativity']]\n",
    "\n",
    "num_clusters = [1,2,3,4,5,6,7,8,9]\n",
    "kmeans = [ KMeans(n_clusters=i) for i in num_clusters ]\n",
    "score = [ kmeans[i-1].fit(y).score(y)for i in num_clusters ]\n",
    "\n",
    "plt.plot(num_clusters, score)\n",
    "plt.xlabel('Number of Clusters')\n",
    "plt.ylabel('Score')\n",
    "plt.title('Elbow Curve Analysis')\n",
    "plt.show()"
   ]
  },
  {
   "cell_type": "markdown",
   "metadata": {},
   "source": [
    "### Step 8. View the players in the clusters"
   ]
  },
  {
   "cell_type": "code",
   "execution_count": 13,
   "metadata": {},
   "outputs": [
    {
     "name": "stdout",
     "output_type": "stream",
     "text": [
      "---\n",
      "              name  creativity  goals  cluster\n",
      "1           Adrian         0.0      0      0.0\n",
      "3              Ake       115.1      2      0.0\n",
      "5     Alderweireld        67.8      0      0.0\n",
      "7          Alisson         0.0      0      0.0\n",
      "10         Amartey        10.3      0      0.0\n",
      "11          Ampadu         0.0      0      0.0\n",
      "12          Andone         0.0      0      0.0\n",
      "14       Armstrong         0.0      0      0.0\n",
      "16           Arter        76.1      1      0.0\n",
      "21           Ayite         0.0      0      0.0\n",
      "23          Bacuna         0.0      0      0.0\n",
      "24          Bailly        28.4      1      0.0\n",
      "27        Balbuena         0.0      0      0.0\n",
      "28         Baldock         0.8      0      0.0\n",
      "29         Balogun         0.0      0      0.0\n",
      "30           Bamba         0.0      0      0.0\n",
      "31       Baningime         3.8      0      0.0\n",
      "32        Bardsley       117.5      0      0.0\n",
      "33         Barkley        34.7      0      0.0\n",
      "35           Batth         0.0      0      0.0\n",
      "36        Bednarek         1.9      1      0.0\n",
      "37         Begovic        20.0      0      0.0\n",
      "39      Benalouane         1.3      0      0.0\n",
      "40         Bennett         0.0      0      0.0\n",
      "41         Bennett         0.0      0      0.0\n",
      "43        Bernardo         0.0      0      0.0\n",
      "46      Bettinelli         0.0      0      0.0\n",
      "47         Billing        58.6      0      0.0\n",
      "48        Bissouma         0.0      0      0.0\n",
      "49           Blind        93.0      0      0.0\n",
      "..             ...         ...    ...      ...\n",
      "419         Taylor        86.8      0      0.0\n",
      "420        Tomkins        22.4      3      0.0\n",
      "421       Torreira         0.0      0      0.0\n",
      "427     Vertonghen       205.7      0      0.0\n",
      "428    Vestergaard         0.0      0      0.0\n",
      "429        Vinagre         0.0      0      0.0\n",
      "430         Vlasic       159.1      0      0.0\n",
      "432           Vorm         0.0      0      0.0\n",
      "435  Walker-Peters        48.3      0      0.0\n",
      "436        Walters         0.7      0      0.0\n",
      "437    Wan-Bissaka        60.0      0      0.0\n",
      "438        Wanyama        96.8      1      0.0\n",
      "439           Ward         0.0      0      0.0\n",
      "440           Ward         0.0      0      0.0\n",
      "441           Ward       163.5      0      0.0\n",
      "445          Wells         3.5      0      0.0\n",
      "446       Westwood       134.8      0      0.0\n",
      "447        Wickham         0.0      0      0.0\n",
      "449       Williams        39.0      1      0.0\n",
      "450       Williams        83.0      0      0.0\n",
      "454          Winks       172.2      0      0.0\n",
      "457     Yarmolenko         0.0      0      0.0\n",
      "459        Yoshida        67.0      2      0.0\n",
      "461       Zabaleta       293.7      0      0.0\n",
      "463          Zanka       123.6      0      0.0\n",
      "464     Zappacosta       245.3      1      0.0\n",
      "465      Zeegelaar       142.1      0      0.0\n",
      "466      Zinchenko       145.9      0      0.0\n",
      "467         Zohore         0.0      0      0.0\n",
      "469       van Dijk       122.6      0      0.0\n",
      "\n",
      "[317 rows x 4 columns]\n",
      "---\n",
      "            name  creativity  goals  cluster\n",
      "8           Alli       878.5      9      1.0\n",
      "103  David Silva      1118.5      9      1.0\n",
      "107    De Bruyne      1744.2      8      1.0\n",
      "138      Eriksen      1487.0     11      1.0\n",
      "157     Fabregas      1349.3      2      1.0\n",
      "167        Gross      1311.0      7      1.0\n",
      "169  Gudmundsson      1052.0      2      1.0\n",
      "179       Hazard      1127.3     12      1.0\n",
      "273       Mahrez       924.0     12      1.0\n",
      "277         Mane       739.1     10      1.0\n",
      "284         Mata       849.9      3      1.0\n",
      "308         Mooy       848.8      4      1.0\n",
      "362      Ritchie       844.4      3      1.0\n",
      "375         Sane       891.3     10      1.0\n",
      "385      Shaqiri      1151.6      8      1.0\n",
      "415      Sanchez      1155.2      9      1.0\n",
      "423     Townsend      1012.1      2      1.0\n",
      "451      Willian       891.5      6      1.0\n",
      "462         Zaha       716.9      9      1.0\n",
      "471         Ozil      1287.5      4      1.0\n",
      "---\n",
      "                 name  creativity  goals  cluster\n",
      "0          Adam Smith       345.5      1      2.0\n",
      "4          Albrighton       718.3      2      2.0\n",
      "6    Alexander-Arnold       399.2      1      2.0\n",
      "9              Alonso       549.6      7      2.0\n",
      "13            Antonio       256.3      3      2.0\n",
      "17               Atsu       340.6      2      2.0\n",
      "18         Aubameyang       207.1     10      2.0\n",
      "19             Aurier       236.5      2      2.0\n",
      "20             Austin        89.4      7      2.0\n",
      "22        Azpilicueta       535.7      2      2.0\n",
      "25             Baines       373.5      2      2.0\n",
      "26           Bakayoko       279.5      2      2.0\n",
      "34             Barnes       274.8      9      2.0\n",
      "38           Bellerin       561.0      2      2.0\n",
      "42            Benteke       406.7      3      2.0\n",
      "44     Bernardo Silva       508.7      6      2.0\n",
      "45           Bertrand       589.1      0      2.0\n",
      "56             Boufal       351.6      2      2.0\n",
      "57              Brady       477.9      1      2.0\n",
      "67      Calvert-Lewin       322.6      4      2.0\n",
      "75        Chamberlain       625.1      3      2.0\n",
      "77         Chicharito       312.4      8      2.0\n",
      "78           Chilwell       332.1      0      2.0\n",
      "83          Cleverley       464.8      1      2.0\n",
      "88               Cork       332.8      2      2.0\n",
      "91          Cresswell       562.7      1      2.0\n",
      "93             Cedric       455.6      0      2.0\n",
      "97            Daniels       479.7      1      2.0\n",
      "104            Davies       698.8      2      2.0\n",
      "106             Davis       350.8      3      2.0\n",
      "..                ...         ...    ...      ...\n",
      "350             Perez       539.0      8      2.0\n",
      "353            Ramsey       478.3      7      2.0\n",
      "354          Rashford       412.1      7      2.0\n",
      "356           Redmond       630.9      1      2.0\n",
      "360       Richarlison       384.7      5      2.0\n",
      "363         Robertson       414.5      1      2.0\n",
      "387           Shelvey       639.9      1      2.0\n",
      "388        Sigurdsson       614.9      4      2.0\n",
      "394           Sissoko       384.7      1      2.0\n",
      "398             Sobhi       237.9      2      2.0\n",
      "404         Stanislas       377.2      5      2.0\n",
      "413            Surman       261.1      2      2.0\n",
      "422             Tosun       226.4      5      2.0\n",
      "424          Trippier       617.5      0      2.0\n",
      "425          Valencia       438.5      3      2.0\n",
      "431             Vokes       128.0      4      2.0\n",
      "433           Walcott       234.9      3      2.0\n",
      "434            Walker       511.4      0      2.0\n",
      "442              Ward       270.9      1      2.0\n",
      "443       Ward-Prowse       613.9      3      2.0\n",
      "444           Welbeck       212.8      5      2.0\n",
      "448         Wijnaldum       356.2      1      2.0\n",
      "452          Wilshere       281.8      1      2.0\n",
      "453            Wilson       288.4      8      2.0\n",
      "455              Wood       203.5     10      2.0\n",
      "456             Xhaka       822.8      1      2.0\n",
      "458            Yedlin       340.7      0      2.0\n",
      "460             Young       502.3      2      2.0\n",
      "468       van Aanholt       303.8      5      2.0\n",
      "470      van La Parra       261.6      3      2.0\n",
      "\n",
      "[122 rows x 4 columns]\n",
      "---\n",
      "           name  creativity  goals  cluster\n",
      "2        Aguero       570.8     21      3.0\n",
      "15   Arnautovic       543.0     11      3.0\n",
      "147     Firmino       834.5     15      3.0\n",
      "210       Jesus       360.3     13      3.0\n",
      "221        Kane       502.1     29      3.0\n",
      "242   Lacazette       566.0     14      3.0\n",
      "267      Lukaku       572.4     16      3.0\n",
      "309      Morata       478.9     11      3.0\n",
      "318      Murray       271.8     12      3.0\n",
      "373       Salah       942.5     32      3.0\n",
      "401         Son       588.2     12      3.0\n",
      "409    Sterling       838.2     18      3.0\n",
      "426       Vardy       439.9     20      3.0\n"
     ]
    },
    {
     "data": {
      "image/png": "[encoded data removed]",
      "text/plain": [
       "<Figure size 432x288 with 1 Axes>"
      ]
     },
     "metadata": {
      "needs_background": "light"
     },
     "output_type": "display_data"
    }
   ],
   "source": [
    "groups = contents.groupby('cluster')\n",
    "\n",
    "# Plot the clusters\n",
    "fig, ax = plt.subplots()\n",
    "for name, group in groups:    \n",
    "    print('---')\n",
    "    print(group)"
   ]
  },
  {
   "cell_type": "markdown",
   "metadata": {},
   "source": [
    "We have successfully clustered the players into four groups - when applying domain knowledge of the premier league, I can label these groups as follows:\n",
    "0. Goalkeepers and Centre Halfs\n",
    "1. Creative players with low goalscoring\n",
    "2. Everyone else\n",
    "3. High goalscoring players\n"
   ]
  },
  {
   "cell_type": "code",
   "execution_count": null,
   "metadata": {},
   "outputs": [],
   "source": []
  }
 ],
 "metadata": {
  "kernelspec": {
   "display_name": "Python 3",
   "language": "python",
   "name": "python3"
  },
  "language_info": {
   "codemirror_mode": {
    "name": "ipython",
    "version": 3
   },
   "file_extension": ".py",
   "mimetype": "text/x-python",
   "name": "python",
   "nbconvert_exporter": "python",
   "pygments_lexer": "ipython3",
   "version": "3.7.1"
  }
 },
 "nbformat": 4,
 "nbformat_minor": 2
}
