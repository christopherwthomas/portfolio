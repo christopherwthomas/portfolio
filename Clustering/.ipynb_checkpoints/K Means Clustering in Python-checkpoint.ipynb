{
 "cells": [
  {
   "cell_type": "markdown",
   "metadata": {},
   "source": [
    "# K Means Clustering"
   ]
  },
  {
   "cell_type": "markdown",
   "metadata": {},
   "source": [
    "### Step 1. Import Libraries"
   ]
  },
  {
   "cell_type": "code",
   "execution_count": 18,
   "metadata": {},
   "outputs": [],
   "source": [
    "import pandas as pd\n",
    "import matplotlib.pyplot as plt\n",
    "from sklearn.cluster import KMeans\n",
    "from sklearn.preprocessing import scale"
   ]
  },
  {
   "cell_type": "markdown",
   "metadata": {},
   "source": [
    "### Step 2. Load data"
   ]
  },
  {
   "cell_type": "code",
   "execution_count": 2,
   "metadata": {},
   "outputs": [
    {
     "data": {
      "text/plain": [
       "<bound method NDFrame.head of            Wards in Hackney  Average Age Average income\n",
       "0                Brownswood         33.2     £48,860.00\n",
       "1                  Cazenove         29.2     £46,380.00\n",
       "2                   Chatham         32.1     £39,570.00\n",
       "3                  Clissold         33.6     £56,050.00\n",
       "4                   Dalston         32.8     £46,500.00\n",
       "5               De Beauvoir         33.2     £47,560.00\n",
       "6           Hackney Central         33.7     £42,840.00\n",
       "7             Hackney Downs         33.1     £43,360.00\n",
       "8                Haggerston         31.2     £43,830.00\n",
       "9                    Hoxton         32.2     £42,490.00\n",
       "10              King's Park         32.8     £38,930.00\n",
       "11                Leabridge         32.5     £42,650.00\n",
       "12                 Lordship         31.4     £48,700.00\n",
       "13                New River         30.4     £43,230.00\n",
       "14             Queensbridge         33.9     £44,620.00\n",
       "15              Springfield         29.2     £40,810.00\n",
       "16  Stoke Newington Central         33.9     £51,920.00\n",
       "17                 Victoria         33.2     £45,410.00\n",
       "18                     Wick         32.6     £40,010.00>"
      ]
     },
     "execution_count": 2,
     "metadata": {},
     "output_type": "execute_result"
    }
   ],
   "source": [
    "contents = pd.read_csv('newhackneydata.csv')\n",
    "contents.head"
   ]
  },
  {
   "cell_type": "markdown",
   "metadata": {},
   "source": [
    "### Step 3. Transform the data for python"
   ]
  },
  {
   "cell_type": "code",
   "execution_count": 3,
   "metadata": {},
   "outputs": [
    {
     "name": "stdout",
     "output_type": "stream",
     "text": [
      "     income\n",
      "0   48860.0\n",
      "1   46380.0\n",
      "2   39570.0\n",
      "3   56050.0\n",
      "4   46500.0\n",
      "5   47560.0\n",
      "6   42840.0\n",
      "7   43360.0\n",
      "8   43830.0\n",
      "9   42490.0\n",
      "10  38930.0\n",
      "11  42650.0\n",
      "12  48700.0\n",
      "13  43230.0\n",
      "14  44620.0\n",
      "15  40810.0\n",
      "16  51920.0\n",
      "17  45410.0\n",
      "18  40010.0\n"
     ]
    },
    {
     "data": {
      "text/plain": [
       "<bound method NDFrame.head of                       wards   age   income\n",
       "0                Brownswood  33.2  48860.0\n",
       "1                  Cazenove  29.2  46380.0\n",
       "2                   Chatham  32.1  39570.0\n",
       "3                  Clissold  33.6  56050.0\n",
       "4                   Dalston  32.8  46500.0\n",
       "5               De Beauvoir  33.2  47560.0\n",
       "6           Hackney Central  33.7  42840.0\n",
       "7             Hackney Downs  33.1  43360.0\n",
       "8                Haggerston  31.2  43830.0\n",
       "9                    Hoxton  32.2  42490.0\n",
       "10              King's Park  32.8  38930.0\n",
       "11                Leabridge  32.5  42650.0\n",
       "12                 Lordship  31.4  48700.0\n",
       "13                New River  30.4  43230.0\n",
       "14             Queensbridge  33.9  44620.0\n",
       "15              Springfield  29.2  40810.0\n",
       "16  Stoke Newington Central  33.9  51920.0\n",
       "17                 Victoria  33.2  45410.0\n",
       "18                     Wick  32.6  40010.0>"
      ]
     },
     "execution_count": 3,
     "metadata": {},
     "output_type": "execute_result"
    }
   ],
   "source": [
    "contents.columns = ['wards', 'age', 'income']\n",
    "contents[['income']]=contents[['income']].replace('[\\£,]','', regex=True).astype(float)\n",
    "print(contents[['income']])\n",
    "contents.head"
   ]
  },
  {
   "cell_type": "markdown",
   "metadata": {},
   "source": [
    "### Step 4. Visualise the data"
   ]
  },
  {
   "cell_type": "code",
   "execution_count": 4,
   "metadata": {},
   "outputs": [
    {
     "data": {
      "text/plain": [
       "<matplotlib.axes._subplots.AxesSubplot at 0x1a1d6092b0>"
      ]
     },
     "execution_count": 4,
     "metadata": {},
     "output_type": "execute_result"
    },
    {
     "data": {
      "image/png": "[encoded data removed]",
      "text/plain": [
       "<Figure size 432x288 with 1 Axes>"
      ]
     },
     "metadata": {
      "needs_background": "light"
     },
     "output_type": "display_data"
    }
   ],
   "source": [
    "contents.plot.scatter(x ='age', y ='income')"
   ]
  },
  {
   "cell_type": "markdown",
   "metadata": {},
   "source": [
    "### Step 5. Applying K Means Clustering"
   ]
  },
  {
   "cell_type": "code",
   "execution_count": 33,
   "metadata": {},
   "outputs": [],
   "source": [
    "data = []\n",
    "for index, row in contents.iterrows():\n",
    "    age = row['age']\n",
    "    income = row['income']\n",
    "    data.append( [float(age), float(income)] )\n",
    "    \n",
    "model = KMeans(n_clusters=5)\n",
    "model.fit(scale(data))\n",
    "\n",
    "contents['cluster'] = model.labels_.astype(float)"
   ]
  },
  {
   "cell_type": "markdown",
   "metadata": {},
   "source": [
    "### Step 6. Visualise the Clusters"
   ]
  },
  {
   "cell_type": "code",
   "execution_count": 34,
   "metadata": {},
   "outputs": [
    {
     "data": {
      "text/plain": [
       "<matplotlib.legend.Legend at 0x1a1e682630>"
      ]
     },
     "execution_count": 34,
     "metadata": {},
     "output_type": "execute_result"
    },
    {
     "data": {
      "image/png": "[encoded data removed]",
      "text/plain": [
       "<Figure size 432x288 with 1 Axes>"
      ]
     },
     "metadata": {
      "needs_background": "light"
     },
     "output_type": "display_data"
    }
   ],
   "source": [
    "groups = contents.groupby('cluster')\n",
    "\n",
    "# Plot the clusters\n",
    "fig, ax = plt.subplots()\n",
    "for name, group in groups:\n",
    "    ax.plot(group.age,group.income, marker='o', linestyle='', label=name)\n",
    "    \n",
    "plt.xlabel('age')\n",
    "plt.ylabel('income')\n",
    "ax.legend()"
   ]
  },
  {
   "cell_type": "markdown",
   "metadata": {},
   "source": [
    "### Step 7. Use Elbow test to decide number of clusters"
   ]
  },
  {
   "cell_type": "code",
   "execution_count": 32,
   "metadata": {},
   "outputs": [
    {
     "data": {
      "image/png": "[encoded data removed]",
      "text/plain": [
       "<Figure size 432x288 with 1 Axes>"
      ]
     },
     "metadata": {
      "needs_background": "light"
     },
     "output_type": "display_data"
    }
   ],
   "source": [
    "x = contents[['age']]\n",
    "y = contents[['income']]\n",
    "\n",
    "num_clusters = [1,2,3,4,5,6,7,8,9]\n",
    "kmeans = [ KMeans(n_clusters=i) for i in num_clusters ]\n",
    "score = [ kmeans[i-1].fit(y).score(y)for i in num_clusters ]\n",
    "\n",
    "plt.plot(num_clusters, score)\n",
    "plt.xlabel('Number of Clusters')\n",
    "plt.ylabel('Score')\n",
    "plt.title('Elbow Curve Analysis')\n",
    "plt.show()"
   ]
  },
  {
   "cell_type": "code",
   "execution_count": null,
   "metadata": {},
   "outputs": [],
   "source": []
  }
 ],
 "metadata": {
  "kernelspec": {
   "display_name": "Python 3",
   "language": "python",
   "name": "python3"
  },
  "language_info": {
   "codemirror_mode": {
    "name": "ipython",
    "version": 3
   },
   "file_extension": ".py",
   "mimetype": "text/x-python",
   "name": "python",
   "nbconvert_exporter": "python",
   "pygments_lexer": "ipython3",
   "version": "3.7.1"
  }
 },
 "nbformat": 4,
 "nbformat_minor": 2
}
